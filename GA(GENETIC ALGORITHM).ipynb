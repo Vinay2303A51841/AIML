{
  "nbformat": 4,
  "nbformat_minor": 0,
  "metadata": {
    "colab": {
      "provenance": [],
      "authorship_tag": "ABX9TyOJ5+b9UeBDsY4W1Lw9be9u",
      "include_colab_link": true
    },
    "kernelspec": {
      "name": "python3",
      "display_name": "Python 3"
    },
    "language_info": {
      "name": "python"
    }
  },
  "cells": [
    {
      "cell_type": "markdown",
      "metadata": {
        "id": "view-in-github",
        "colab_type": "text"
      },
      "source": [
        "<a href=\"https://colab.research.google.com/github/2303A51844/AI-ML/blob/main/GA(GENETIC%20ALGORITHM).ipynb\" target=\"_parent\"><img src=\"https://colab.research.google.com/assets/colab-badge.svg\" alt=\"Open In Colab\"/></a>"
      ]
    },
    {
      "cell_type": "code",
      "execution_count": 1,
      "metadata": {
        "colab": {
          "base_uri": "https://localhost:8080/"
        },
        "id": "jeMSiTVbQACk",
        "outputId": "954b8364-af34-4950-c495-214ed6bc129b"
      },
      "outputs": [
        {
          "output_type": "stream",
          "name": "stdout",
          "text": [
            "Generation 1: Best Solution = 31, Fitness = 961\n",
            "Generation 2: Best Solution = 31, Fitness = 961\n",
            "Generation 3: Best Solution = 31, Fitness = 961\n",
            "Generation 4: Best Solution = 31, Fitness = 961\n",
            "Generation 5: Best Solution = 31, Fitness = 961\n",
            "Generation 6: Best Solution = 31, Fitness = 961\n",
            "Generation 7: Best Solution = 31, Fitness = 961\n",
            "Generation 8: Best Solution = 31, Fitness = 961\n",
            "Generation 9: Best Solution = 31, Fitness = 961\n",
            "Generation 10: Best Solution = 31, Fitness = 961\n",
            "Best solution found: 31, Fitness: 961\n"
          ]
        }
      ],
      "source": [
        "import random\n",
        "\n",
        "# Fitness function: We'll try to maximize f(x) = x^2\n",
        "def fitness_function(individual):\n",
        "    return individual ** 2\n",
        "\n",
        "# Create initial population\n",
        "def generate_population(size, x_min, x_max):\n",
        "    return [random.randint(x_min, x_max) for _ in range(size)]\n",
        "\n",
        "# Select parents using tournament selection\n",
        "def tournament_selection(population, fitness_values, tournament_size=3):\n",
        "    selected = random.sample(list(zip(population, fitness_values)), tournament_size)\n",
        "    return max(selected, key=lambda x: x[1])[0]\n",
        "\n",
        "# Crossover: single point crossover\n",
        "def crossover(parent1, parent2):\n",
        "    crossover_point = random.randint(1, len(bin(parent1)[2:]) - 1)\n",
        "    mask = (1 << crossover_point) - 1\n",
        "    child1 = (parent1 & mask) | (parent2 & ~mask)\n",
        "    child2 = (parent2 & mask) | (parent1 & ~mask)\n",
        "    return child1, child2\n",
        "\n",
        "# Mutation: flip one bit randomly\n",
        "def mutate(individual, mutation_rate=0.01):\n",
        "    if random.random() < mutation_rate:\n",
        "        bit_to_flip = 1 << random.randint(0, len(bin(individual)[2:]) - 1)\n",
        "        individual = individual ^ bit_to_flip\n",
        "    return individual\n",
        "\n",
        "# Genetic Algorithm\n",
        "def genetic_algorithm(pop_size, x_min, x_max, generations, mutation_rate):\n",
        "    population = generate_population(pop_size, x_min, x_max)\n",
        "\n",
        "    for generation in range(generations):\n",
        "        fitness_values = [fitness_function(ind) for ind in population]\n",
        "\n",
        "        new_population = []\n",
        "        while len(new_population) < pop_size:\n",
        "            parent1 = tournament_selection(population, fitness_values)\n",
        "            parent2 = tournament_selection(population, fitness_values)\n",
        "\n",
        "            child1, child2 = crossover(parent1, parent2)\n",
        "\n",
        "            child1 = mutate(child1, mutation_rate)\n",
        "            child2 = mutate(child2, mutation_rate)\n",
        "\n",
        "            new_population.extend([child1, child2])\n",
        "\n",
        "        population = new_population[:pop_size]\n",
        "\n",
        "        # Print best solution found in each generation\n",
        "        best_individual = max(population, key=fitness_function)\n",
        "        print(f\"Generation {generation + 1}: Best Solution = {best_individual}, Fitness = {fitness_function(best_individual)}\")\n",
        "\n",
        "    return best_individual\n",
        "\n",
        "# Running the Genetic Algorithm\n",
        "best_solution = genetic_algorithm(pop_size=10, x_min=0, x_max=31, generations=10, mutation_rate=0.01)\n",
        "print(f\"Best solution found: {best_solution}, Fitness: {fitness_function(best_solution)}\")\n"
      ]
    }
  ]
}